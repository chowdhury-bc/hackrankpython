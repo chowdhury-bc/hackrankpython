{
 "cells": [
  {
   "cell_type": "markdown",
   "metadata": {},
   "source": [
    "Special Substring"
   ]
  },
  {
   "cell_type": "code",
   "execution_count": 16,
   "metadata": {},
   "outputs": [
    {
     "name": "stdout",
     "output_type": "stream",
     "text": [
      "7\n",
      "11\n"
     ]
    }
   ],
   "source": [
    "def substrCount(n, s):\n",
    "    special_count = 0\n",
    "    i = 0\n",
    "\n",
    "    # First, we will count all uniform substrings\n",
    "    while i < n:\n",
    "        # Count the length of the current sequence of the same character\n",
    "        char_count = 1\n",
    "        while i + 1 < n and s[i] == s[i + 1]:\n",
    "            i += 1\n",
    "            char_count += 1\n",
    "\n",
    "        # Add the number of possible substrings for this sequence\n",
    "        # Formula for sum of first m natural numbers is m * (m + 1) // 2\n",
    "        special_count += char_count * (char_count + 1) // 2\n",
    "        i += 1  # Move to the next character sequence\n",
    "\n",
    "    # Now, we will look for centered substrings like \"aba\", \"cac\", etc.\n",
    "    for i in range(1, n - 1):\n",
    "        # s[i] is the middle point, compare characters around it\n",
    "        # Make sure we don't compare the middle character with itself,\n",
    "        # that's why there is i > 0 and i < n - 1 in the loop condition.\n",
    "        # We also need s[i-1] == s[i+1] and s[i-1] != s[i] to form a special \"center\"\n",
    "        if s[i - 1] == s[i + 1] and s[i] != s[i - 1]:\n",
    "            # Expand around the middle point while the condition holds\n",
    "            offset = 1\n",
    "            while i - offset >= 0 and i + offset < n and s[i - offset] == s[i + offset] and s[i - offset] != s[i]:\n",
    "                special_count += 1\n",
    "                offset += 1\n",
    "\n",
    "    return special_count\n",
    "\n",
    "\n",
    "# Example usage based on the sample input\n",
    "print(substrCount(5, \"asasd\"))  # Output: 7\n",
    "print(substrCount(7, \"abcbaba\"))  # Output: 10"
   ]
  },
  {
   "cell_type": "code",
   "execution_count": 65,
   "metadata": {},
   "outputs": [
    {
     "name": "stdout",
     "output_type": "stream",
     "text": [
      "10.0\n"
     ]
    }
   ],
   "source": [
    "def substrCount(n, s):\n",
    "    special_count = 0\n",
    "    i = 0\n",
    "\n",
    "    # First part: Count all substrings where all characters are the same\n",
    "    while i < n:\n",
    "        char_count = 1\n",
    "        while i + 1 < n and s[i] == s[i + 1]:\n",
    "            i += 1\n",
    "            char_count += 1\n",
    "\n",
    "        # Calculate number of substrings for this sequence\n",
    "        special_count += char_count * (char_count + 1) / 2\n",
    "        i += 1\n",
    "\n",
    "    # Second part: Count all substrings where all characters except the middle one are the same\n",
    "    for i in range(1, n):\n",
    "        # s[i] is the middle point\n",
    "        offset = 1\n",
    "        while (i - offset >= 0 and \n",
    "              i + offset < n and \n",
    "              s[i - offset] == s[i + offset] and \n",
    "              s[i] != s[i - offset] and \n",
    "              s[i-1]==s[i-offset]):\n",
    "            special_count += 1\n",
    "            offset += 1\n",
    "\n",
    "    return special_count\n",
    "\n",
    "\n",
    "# Example usage based on the sample input\n",
    "print(substrCount(7, \"abcbaba\"))  # Expected Output: 10"
   ]
  },
  {
   "cell_type": "code",
   "execution_count": null,
   "metadata": {},
   "outputs": [],
   "source": []
  },
  {
   "cell_type": "markdown",
   "metadata": {},
   "source": [
    "LCS"
   ]
  },
  {
   "cell_type": "code",
   "execution_count": 34,
   "metadata": {},
   "outputs": [],
   "source": [
    "def lcsfunc(s1,s2):\n",
    "    m,n=len(s1),len(s2)\n",
    "    dp=[[0]*(n+1) for _ in range(m+1)]\n",
    "\n",
    "    for i in range(1,m+1):\n",
    "        for j in range(1,n+1):\n",
    "            if s1[i-1]==s2[j-1]:\n",
    "                dp[i][j]=dp[i-1][j-1]+1\n",
    "            else:\n",
    "                dp[i][j]=max(dp[i-1][j],dp[i][j-1])\n",
    "    # Reconstruct the LCS from the dp table\n",
    "    lcs_length = dp[m][n]\n",
    "    lcs = []\n",
    "\n",
    "    # Diagonal Movement: Means taking the current character in both strings as part of the LCS.\n",
    "    # Vertical Movement: Means skipping the current character in s1.\n",
    "    # Horizontal Movement: Means skipping the current character in s2.\n",
    "\n",
    "    while m>0 and n>0:\n",
    "        if s1[m-1]==s2[n-1]:\n",
    "            lcs.append(s1[m-1])\n",
    "            m-=1\n",
    "            n-=1\n",
    "        elif dp[m-1][n]>=dp[m][n-1]:\n",
    "            m-=1\n",
    "\n",
    "        else:\n",
    "            n-=1\n",
    "\n",
    "    lcs.reverse()\n",
    "    return ''.join(lcs),lcs_length\n"
   ]
  },
  {
   "cell_type": "code",
   "execution_count": 35,
   "metadata": {},
   "outputs": [
    {
     "name": "stdout",
     "output_type": "stream",
     "text": [
      "LCS: BCAB with length: 4\n"
     ]
    }
   ],
   "source": [
    "# Example\n",
    "s1 = \"ABCBDAB\"\n",
    "s2 = \"BDCABC\"\n",
    "lcs, lcs_length = lcsfunc(s1, s2)\n",
    "print(f\"LCS: {lcs} with length: {lcs_length}\")"
   ]
  },
  {
   "cell_type": "markdown",
   "metadata": {},
   "source": [
    "Repeated string"
   ]
  },
  {
   "cell_type": "code",
   "execution_count": 37,
   "metadata": {},
   "outputs": [
    {
     "name": "stdout",
     "output_type": "stream",
     "text": [
      "abcaabcaab\n"
     ]
    },
    {
     "data": {
      "text/plain": [
       "5"
      ]
     },
     "execution_count": 37,
     "metadata": {},
     "output_type": "execute_result"
    }
   ],
   "source": [
    "def repeatedstring(n,s):\n",
    "    concatenatedstring=\"\"\n",
    "    count_a=0\n",
    "\n",
    "    concatenatedstring += (s*(n//len(s)+1))[:n]\n",
    "\n",
    "    print(concatenatedstring)\n",
    "\n",
    "    for char in concatenatedstring:\n",
    "        if char=='a':\n",
    "            count_a+=1\n",
    "    return count_a\n",
    "repeatedstring(10,'abca')\n",
    "        \n"
   ]
  },
  {
   "cell_type": "markdown",
   "metadata": {},
   "source": [
    "Minimum Distance"
   ]
  },
  {
   "cell_type": "code",
   "execution_count": 56,
   "metadata": {},
   "outputs": [
    {
     "name": "stdout",
     "output_type": "stream",
     "text": [
      "{3: 4, 2: 3, 1: 2}\n"
     ]
    },
    {
     "data": {
      "text/plain": [
       "2"
      ]
     },
     "execution_count": 56,
     "metadata": {},
     "output_type": "execute_result"
    }
   ],
   "source": [
    "def minimum_dist(arr)->int:\n",
    "    indices={} # this is storing only the last seen index\n",
    "    mindist=float(\"inf\")\n",
    "\n",
    "    for i , num in enumerate(arr):#value of array is the key of the dict\n",
    "        if num in indices:\n",
    "            distance=i-indices[num]\n",
    "            mindist=min(distance,mindist)\n",
    "        indices[num]=i\n",
    "    if mindist==float(\"inf\"):\n",
    "        return -1\n",
    "    print(indices)\n",
    "    return mindist\n",
    "\n",
    "minimum_dist([3,2,1,2,3]) \n"
   ]
  },
  {
   "cell_type": "code",
   "execution_count": 57,
   "metadata": {},
   "outputs": [],
   "source": [
    "d = {'a':2,'b':4,'c':5}"
   ]
  },
  {
   "cell_type": "code",
   "execution_count": 61,
   "metadata": {},
   "outputs": [
    {
     "name": "stdout",
     "output_type": "stream",
     "text": [
      "2\n"
     ]
    }
   ],
   "source": [
    "if 'a' in d:\n",
    "    print(d['a'])\n",
    "else: print('ddd')"
   ]
  },
  {
   "cell_type": "code",
   "execution_count": null,
   "metadata": {},
   "outputs": [],
   "source": []
  },
  {
   "cell_type": "markdown",
   "metadata": {},
   "source": [
    "Anagram"
   ]
  },
  {
   "cell_type": "code",
   "execution_count": null,
   "metadata": {},
   "outputs": [],
   "source": [
    "def print_anagram(list_of_words) -> list:\n",
    "    d = {}\n",
    "    out = set()\n",
    "    for word in list_of_words:\n",
    "        s = ''.join(sorted(word))  # first sort and join\n",
    "        try:\n",
    "            out.add(d[s])\n",
    "            out.add(word)\n",
    "        except:\n",
    "            d[s] = word\n",
    "    return out"
   ]
  },
  {
   "cell_type": "markdown",
   "metadata": {},
   "source": [
    "Make Anagram"
   ]
  },
  {
   "cell_type": "code",
   "execution_count": null,
   "metadata": {},
   "outputs": [],
   "source": [
    "def min_deletions_to_make_anagram(str1, str2):\n",
    "    dict1 = {}\n",
    "    dict2 = {}\n",
    "\n",
    "    # add chars and their characters\n",
    "    for char in str1:\n",
    "        dict1[char] = dict1.get(char, 0)+1\n",
    "\n",
    "    for char in str2:\n",
    "        # get the value of the char if its not present, returns 0.\n",
    "        dict2[char] = dict2.get(char, 0)+1\n",
    "\n",
    "    deletions = 0\n",
    "\n",
    "    # since keys are the chars\n",
    "    for key in dict1:\n",
    "        # check if key exist and counts are same if not than delete\n",
    "        if key in dict2:\n",
    "            deletions += abs(dict1[key]-dict2[key])\n",
    "        else:\n",
    "            deletions += 1\n",
    "    for key in dict2:\n",
    "        if key not in dict1:\n",
    "            deletions += 1\n",
    "    return deletions"
   ]
  },
  {
   "cell_type": "markdown",
   "metadata": {},
   "source": [
    "delete matching adjacent chars\n",
    "\n"
   ]
  },
  {
   "cell_type": "code",
   "execution_count": 62,
   "metadata": {},
   "outputs": [],
   "source": [
    "def delmatadj(string):\n",
    "\n",
    "    deletions = 0\n",
    "    for i in range(1, len(string)):\n",
    "        print(string[i-1])\n",
    "        if string[i] == string[i-1]:\n",
    "            deletions += 1\n",
    "\n",
    "    return deletions"
   ]
  },
  {
   "cell_type": "markdown",
   "metadata": {},
   "source": [
    "valid frequencies\n"
   ]
  },
  {
   "cell_type": "code",
   "execution_count": 63,
   "metadata": {},
   "outputs": [],
   "source": [
    "def isValid(s):\n",
    "    freq = {}\n",
    "\n",
    "    for c in s:\n",
    "        freq[c] = freq.get(c, 0)+1\n",
    "\n",
    "    max_freq = max(freq.values())\n",
    "    min_freq = min(freq.values())\n",
    "\n",
    "    if max_freq-min_freq == 0:\n",
    "        return \"YES\"\n",
    "\n",
    "    if (max_freq-min_freq == 1 and list(freq.values()).count(max_freq) == 1) or (min_freq == 1 and list(freq.values()).count(min_freq) == 1):\n",
    "        return \"YES\"\n",
    "\n",
    "    return \"NO\""
   ]
  },
  {
   "cell_type": "markdown",
   "metadata": {},
   "source": [
    "Special string\n"
   ]
  },
  {
   "cell_type": "markdown",
   "metadata": {},
   "source": []
  }
 ],
 "metadata": {
  "kernelspec": {
   "display_name": "Python 3",
   "language": "python",
   "name": "python3"
  },
  "language_info": {
   "codemirror_mode": {
    "name": "ipython",
    "version": 3
   },
   "file_extension": ".py",
   "mimetype": "text/x-python",
   "name": "python",
   "nbconvert_exporter": "python",
   "pygments_lexer": "ipython3",
   "version": "3.10.13"
  }
 },
 "nbformat": 4,
 "nbformat_minor": 2
}
