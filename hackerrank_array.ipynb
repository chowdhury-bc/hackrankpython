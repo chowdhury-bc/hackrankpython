{
 "cells": [
  {
   "cell_type": "markdown",
   "metadata": {},
   "source": [
    "Hourgalss\n",
    "`a b c\n",
    "  e\n",
    "f g h`"
   ]
  },
  {
   "cell_type": "code",
   "execution_count": 2,
   "metadata": {},
   "outputs": [
    {
     "name": "stdout",
     "output_type": "stream",
     "text": [
      "28\n"
     ]
    }
   ],
   "source": [
    "def max_hourglass_sum(arr):\n",
    "    max_sum = -float('inf')  # Start with the lowest possible number\n",
    "\n",
    "    # Loop through each possible starting point of an hourglass\n",
    "    for i in range(4):  # Only go up to 4 to stay within the 6x6 boundaries.# 6 - 3 + 1 = 4, where 3 is the height of the hourglass\n",
    "        for j in range(4):\n",
    "            # Calculate the sum of the current hourglass\n",
    "            current_sum = (\n",
    "                arr[i][j] + arr[i][j+1] + arr[i][j+2]  # Top row of the hourglass\n",
    "                + arr[i+1][j+1]                      # Middle of the hourglass\n",
    "                + arr[i+2][j] + arr[i+2][j+1] + arr[i+2][j+2]  # Bottom row of the hourglass\n",
    "            )\n",
    "            \n",
    "            # Update max_sum if the current_sum is greater\n",
    "            if current_sum > max_sum:\n",
    "                max_sum = current_sum\n",
    "\n",
    "    return max_sum\n",
    "\n",
    "# Example usage with a 6x6 array\n",
    "example_array = [\n",
    "    [-9, -9, -9,  1, 1, 1],\n",
    "    [0, -9,  0,  4, 3, 2],\n",
    "    [-9, -9, -9,  1, 2, 3],\n",
    "    [0,  0,  8,  6, 6, 0],\n",
    "    [0,  0,  0, -2, 0, 0],\n",
    "    [0,  0,  1,  2, 4, 0]\n",
    "]\n",
    "print(max_hourglass_sum(example_array))  # Output will be the maximum hourglass sum"
   ]
  },
  {
   "cell_type": "markdown",
   "metadata": {},
   "source": [
    "New year chaos"
   ]
  },
  {
   "cell_type": "code",
   "execution_count": 6,
   "metadata": {},
   "outputs": [
    {
     "name": "stdout",
     "output_type": "stream",
     "text": [
      "Too chaotic\n"
     ]
    }
   ],
   "source": [
    "def minimumBribes(queue):\n",
    "    bribes = 0\n",
    "    n = len(queue)\n",
    "\n",
    "    # Start from the last person in the queue and move to the front\n",
    "    for i in range(n - 1, -1, -1):\n",
    "        if queue[i] - (i + 1) > 2:\n",
    "            print(\"Too chaotic\")\n",
    "            return\n",
    "\n",
    "        # Count the number of bribes this person has taken\n",
    "        # Only need to check from two places before the original index to current index\n",
    "        for j in range(max(0, queue[i] - 2), i):\n",
    "            if queue[j] > queue[i]:\n",
    "                bribes += 1\n",
    "\n",
    "    return bribes\n",
    "\n",
    "\n",
    "# Example usage:\n",
    "queue_example = [2, 1, 5, 3, 4]\n",
    "minimumBribes(queue_example)  # Output: 3\n",
    "\n",
    "queue_too_chaotic = [2, 5, 1, 3, 4]\n",
    "minimumBribes(queue_too_chaotic)  # Output: Too chaotic"
   ]
  },
  {
   "cell_type": "markdown",
   "metadata": {},
   "source": [
    "Minimum number of swaps to sort an array"
   ]
  },
  {
   "cell_type": "code",
   "execution_count": 4,
   "metadata": {},
   "outputs": [
    {
     "name": "stdout",
     "output_type": "stream",
     "text": [
      "2\n"
     ]
    }
   ],
   "source": [
    "def minimumSwaps(arr):\n",
    "    swaps = 0\n",
    "    visited = [False] * len(arr)\n",
    "\n",
    "    for i in range(len(arr)):\n",
    "        if visited[i] or arr[i] == i + 1:\n",
    "            continue\n",
    "\n",
    "        # Start of a new cycle\n",
    "        cycle_size = 0\n",
    "        x = i\n",
    "\n",
    "        while not visited[x]:\n",
    "            visited[x] = True\n",
    "            x = arr[x] - 1  # move to the next node\n",
    "            cycle_size += 1\n",
    "\n",
    "        if cycle_size > 0:\n",
    "            # Add the number of swaps required for this cycle\n",
    "            swaps += (cycle_size - 1)\n",
    "\n",
    "    return swaps\n",
    "\n",
    "\n",
    "# Example usage\n",
    "arr = [4, 3, 2, 1]\n",
    "print(minimumSwaps(arr))  # Output: 2"
   ]
  },
  {
   "cell_type": "markdown",
   "metadata": {},
   "source": [
    "Range update"
   ]
  },
  {
   "cell_type": "code",
   "execution_count": 5,
   "metadata": {},
   "outputs": [
    {
     "name": "stdout",
     "output_type": "stream",
     "text": [
      "300\n"
     ]
    }
   ],
   "source": [
    "def max_value_after_operations(n, operations):\n",
    "    # Initialize the array with zeros\n",
    "    arr = [0] * (n + 1)\n",
    "\n",
    "    # Apply each operation to the array using the difference array technique\n",
    "    for a, b, k in operations:\n",
    "        arr[a] += k\n",
    "        if b + 1 <= n:\n",
    "            arr[b + 1] -= k\n",
    "\n",
    "    # Compute the prefix sum to get the actual values\n",
    "    max_value = 0\n",
    "    current_value = 0\n",
    "    for i in range(1, n + 1):\n",
    "        current_value += arr[i]\n",
    "        if current_value > max_value:\n",
    "            max_value = current_value\n",
    "\n",
    "    return max_value\n",
    "\n",
    "\n",
    "# Example usage\n",
    "n = 5  # Size of the array\n",
    "operations = [(1, 3, 100), (2, 4, 100), (3, 5, 100)]\n",
    "# Output the maximum value in the array after operations\n",
    "print(max_value_after_operations(n, operations))"
   ]
  },
  {
   "cell_type": "code",
   "execution_count": null,
   "metadata": {},
   "outputs": [],
   "source": []
  }
 ],
 "metadata": {
  "kernelspec": {
   "display_name": "Python 3",
   "language": "python",
   "name": "python3"
  },
  "language_info": {
   "codemirror_mode": {
    "name": "ipython",
    "version": 3
   },
   "file_extension": ".py",
   "mimetype": "text/x-python",
   "name": "python",
   "nbconvert_exporter": "python",
   "pygments_lexer": "ipython3",
   "version": "3.10.13"
  }
 },
 "nbformat": 4,
 "nbformat_minor": 2
}
